{
  "nbformat": 4,
  "nbformat_minor": 0,
  "metadata": {
    "colab": {
      "provenance": [],
      "authorship_tag": "ABX9TyMBB1HLwMIFELsFsGBQ4VE5",
      "include_colab_link": true
    },
    "kernelspec": {
      "name": "python3",
      "display_name": "Python 3"
    },
    "language_info": {
      "name": "python"
    }
  },
  "cells": [
    {
      "cell_type": "markdown",
      "metadata": {
        "id": "view-in-github",
        "colab_type": "text"
      },
      "source": [
        "<a href=\"https://colab.research.google.com/github/VijayTaori/Tic-Tac-Toe/blob/master/Class.ipynb\" target=\"_parent\"><img src=\"https://colab.research.google.com/assets/colab-badge.svg\" alt=\"Open In Colab\"/></a>"
      ]
    },
    {
      "cell_type": "code",
      "execution_count": 8,
      "metadata": {
        "colab": {
          "base_uri": "https://localhost:8080/"
        },
        "id": "zYufLBxKjGHr",
        "outputId": "adcf01cd-874f-469d-fdd0-9448e3d1c356"
      },
      "outputs": [
        {
          "output_type": "stream",
          "name": "stdout",
          "text": [
            "jon\n",
            "jonny\n",
            "Kat\n"
          ]
        }
      ],
      "source": [
        "class Vehicle:\n",
        "  def __init__(self, seats, wheels, passangers=[]):\n",
        "    self.seats = seats\n",
        "    self.passangers = passangers\n",
        "    self.wheels = wheels\n",
        "  \n",
        "  def print_passangers(self):\n",
        "    for i, j in enumerate(self.passangers):\n",
        "      print(self.passangers[i])\n",
        "      \n",
        "\n",
        "# Instantiation of an object from Vehicle class\n",
        "car1 = Vehicle(2,4,['jon', 'jonny'])\n",
        "car1.print_passangers()\n",
        "\n",
        "car2 = Vehicle(4, 4, ['Kat'])\n",
        "car2.print_passangers()"
      ]
    }
  ]
}
{
  "nbformat": 4,
  "nbformat_minor": 0,
  "metadata": {
    "colab": {
      "provenance": [],
      "authorship_tag": "ABX9TyNZs1c70yntvxZCsCkPXzF9",
      "include_colab_link": true
    },
    "kernelspec": {
      "name": "python3",
      "display_name": "Python 3"
    },
    "language_info": {
      "name": "python"
    }
  },
  "cells": [
    {
      "cell_type": "markdown",
      "metadata": {
        "id": "view-in-github",
        "colab_type": "text"
      },
      "source": [
        "<a href=\"https://colab.research.google.com/github/VijayTaori/Tic-Tac-Toe/blob/master/OOP_inheritance.ipynb\" target=\"_parent\"><img src=\"https://colab.research.google.com/assets/colab-badge.svg\" alt=\"Open In Colab\"/></a>"
      ]
    },
    {
      "cell_type": "code",
      "execution_count": 23,
      "metadata": {
        "colab": {
          "base_uri": "https://localhost:8080/"
        },
        "id": "luIM8S9uEVfd",
        "outputId": "683283bd-e03c-4e9d-c742-4f7c6ba45364"
      },
      "outputs": [
        {
          "output_type": "stream",
          "name": "stdout",
          "text": [
            "['jack', 'jill']\n",
            "['Tim', 'Ted']\n",
            "['Ted', 'Tilda']\n",
            "['jack', 'jill']\n",
            "2\n",
            "2\n",
            "['jill', 'BOB']\n"
          ]
        }
      ],
      "source": [
        "class Vehicle:\n",
        "  def __init__(self, seats, passangers=[]):\n",
        "    self.seats = seats\n",
        "    self.passangers = passangers\n",
        "\n",
        "  def add_passanger(self,passangers):\n",
        "    self.passangers.append(passangers)\n",
        "\n",
        "  def show_passanger(self):    \n",
        "    if len(self.passangers) > self.seats:\n",
        "      self.passangers = self.passangers[-self.seats:]\n",
        "    print(self.passangers)\n",
        "\n",
        "class TwoWheeler (Vehicle):\n",
        "  def __init__(self,passangers, wheels):\n",
        "    self.seats = 2\n",
        "    self.passangers = passangers\n",
        "    self.wheels = wheels\n",
        "\n",
        "    \n",
        "\n",
        "TW = TwoWheeler(['jack', 'jill'],2)\n",
        "TW.show_passanger()    \n",
        "\n",
        "\n",
        "V1 = Vehicle(2, ['Tim','Ted'])\n",
        "V1.show_passanger()\n",
        "V1.add_passanger('Tilda')\n",
        "V1.show_passanger()\n",
        "TW.show_passanger()\n",
        "print(TW.wheels)\n",
        "print(TW.seats)\n",
        "TW.add_passanger('BOB')\n",
        "TW.show_passanger()"
      ]
    }
  ]
}